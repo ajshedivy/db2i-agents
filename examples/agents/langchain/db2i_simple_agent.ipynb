{
 "cells": [
  {
   "cell_type": "markdown",
   "metadata": {},
   "source": [
    "# Db2i Agent - LangChain Example\n",
    "\n",
    "## Architecture\n",
    "\n",
    "At a high-level, the steps of these systems are:\n",
    "\n",
    "1. Convert question to SQL query: Model converts user input to a SQL query.\n",
    "2. Execute SQL query: Execute the query.\n",
    "3. Answer the question: Model responds to user input using the query results.\n",
    "\n",
    "## Model\n",
    "\n",
    "For this demo, we are using `llama3.1` with Ollama\n"
   ]
  },
  {
   "cell_type": "code",
   "execution_count": 2,
   "metadata": {},
   "outputs": [],
   "source": [
    "from dotenv import load_dotenv\n",
    "import os\n",
    "\n",
    "def load_connection():\n",
    "    connection_details = {\n",
    "        \"host\": os.getenv(\"HOST\"),\n",
    "        \"user\": os.getenv(\"DB_USER\"),\n",
    "        \"port\": os.getenv(\"PORT\", 8075),\n",
    "        \"password\": os.getenv(\"PASSWORD\"),\n",
    "        \"schema\": os.getenv(\"SCHEMA\"),\n",
    "    }\n",
    "    return connection_details\n",
    "\n",
    "load_dotenv()\n",
    "config = load_connection()\n",
    "SCHEMA = os.getenv(\"SCHEMA\")"
   ]
  },
  {
   "cell_type": "code",
   "execution_count": 3,
   "metadata": {},
   "outputs": [
    {
     "name": "stdout",
     "output_type": "stream",
     "text": [
      "['ACT', 'AVERAGE_SALARY_PER_DEPARTMENT', 'CL_SCHED', 'DELETEMEPY', 'DEPARTMENT', 'DEPARTMENTS', 'EMPLOYEE', 'EMPLOYEES', 'EMPPROJACT', 'EMP_PHOTO', 'EMP_RESUME', 'IN_TRAY', 'ORG', 'PROJACT', 'PROJECT', 'RANDOMDATA', 'SALES', 'STAFF']\n"
     ]
    }
   ],
   "source": [
    "from db2i_tools.database import Db2iDatabase\n",
    "\n",
    "db = Db2iDatabase(schema=SCHEMA, server_config=config)\n",
    "print(db.get_usable_table_names())"
   ]
  },
  {
   "cell_type": "code",
   "execution_count": 4,
   "metadata": {},
   "outputs": [],
   "source": [
    "from typing_extensions import TypedDict\n",
    "\n",
    "class State(TypedDict):\n",
    "    question: str\n",
    "    query: str\n",
    "    result: str\n",
    "    answer: str\n",
    "\n"
   ]
  },
  {
   "cell_type": "code",
   "execution_count": 5,
   "metadata": {},
   "outputs": [],
   "source": [
    "from langchain_ollama import ChatOllama\n",
    "\n",
    "llm = ChatOllama(\n",
    "    model=\"llama3.1:latest\"\n",
    ")"
   ]
  },
  {
   "cell_type": "code",
   "execution_count": 6,
   "metadata": {},
   "outputs": [
    {
     "name": "stdout",
     "output_type": "stream",
     "text": [
      "--  Generate SQL\n",
      "--  Version:                   V7R4M0 190621\n",
      "--  Generated on:              25/03/13 18:27:31\n",
      "--  Relational Database:       E7001B91\n",
      "--  Standards Option:          Db2 for i\n",
      "\n",
      "CREATE OR REPLACE TABLE SAMPLE.DEPARTMENT (\n",
      "  DEPTNO CHAR(3) CCSID 273 NOT NULL ,\n",
      "  DEPTNAME VARCHAR(36) CCSID 273 NOT NULL ,\n",
      "  MGRNO CHAR(6) CCSID 273 DEFAULT NULL ,\n",
      "  ADMRDEPT CHAR(3) CCSID 273 NOT NULL ,\n",
      "  \"LOCATION\" CHAR(16) CCSID 273 DEFAULT NULL ,\n",
      "  CONSTRAINT SAMPLE.Q_SAMPLE_DEPARTMENT_DEPTNO_00001 PRIMARY KEY( DEPTNO ) )\n",
      "\n",
      "  RCDFMT DEPARTMENT ;\n",
      "\n",
      "ALTER TABLE SAMPLE.DEPARTMENT\n",
      "  ADD CONSTRAINT SAMPLE.ROD\n",
      "  FOREIGN KEY( ADMRDEPT )\n",
      "  REFERENCES SAMPLE.DEPARTMENT ( DEPTNO )\n",
      "  ON DELETE CASCADE\n",
      "  ON UPDATE NO ACTION ;\n",
      "\n",
      "ALTER TABLE SAMPLE.DEPARTMENT\n",
      "  ADD CONSTRAINT SAMPLE.RDE\n",
      "  FOREIGN KEY( MGRNO )\n",
      "  REFERENCES SAMPLE.EMPLOYEE ( EMPNO )\n",
      "  ON DELETE SET NULL\n",
      "  ON UPDATE NO ACTION ;\n",
      "3 sample rows from DEPARTMENT:\n",
      "DEPTNO\tDEPTNAME\tMGRNO\tADMRDEPT\tLOCATION\n",
      "A00\tSPIFFY COMPUTER SERVICE DIV.\t000010\tA00\tNULL\n",
      "B01\tPLANNING\t000020\tA00\tNULL\n",
      "C01\tINFORMATION CENTER\t000030\tA00\tNULL\n",
      "\n",
      "--  Generate SQL\n",
      "--  Version:                   V7R4M0 190621\n",
      "--  Generated on:              25/03/13 18:27:35\n",
      "--  Relational Database:       E7001B91\n",
      "--  Standards Option:          Db2 for i\n",
      "\n",
      "CREATE OR REPLACE TABLE SAMPLE.EMPLOYEE (\n",
      "  EMPNO CHAR(6) CCSID 273 NOT NULL ,\n",
      "  FIRSTNME VARCHAR(12) CCSID 273 NOT NULL ,\n",
      "  MIDINIT CHAR(1) CCSID 273 NOT NULL ,\n",
      "  LASTNAME VARCHAR(15) CCSID 273 NOT NULL ,\n",
      "  WORKDEPT CHAR(3) CCSID 273 DEFAULT NULL ,\n",
      "  PHONENO CHAR(4) CCSID 273 DEFAULT NULL ,\n",
      "  HIREDATE DATE DEFAULT NULL ,\n",
      "  JOB CHAR(8) CCSID 273 DEFAULT NULL ,\n",
      "  EDLEVEL SMALLINT NOT NULL ,\n",
      "  SEX CHAR(1) CCSID 273 DEFAULT NULL ,\n",
      "  BIRTHDATE DATE DEFAULT NULL ,\n",
      "  SALARY DECIMAL(9, 2) DEFAULT NULL ,\n",
      "  BONUS DECIMAL(9, 2) DEFAULT NULL ,\n",
      "  COMM DECIMAL(9, 2) DEFAULT NULL ,\n",
      "  CONSTRAINT SAMPLE.Q_SAMPLE_EMPLOYEE_EMPNO_00001 PRIMARY KEY( EMPNO ) )\n",
      "\n",
      "  RCDFMT EMPLOYEE   ;\n",
      "\n",
      "ALTER TABLE SAMPLE.EMPLOYEE\n",
      "  ADD CONSTRAINT SAMPLE.RED\n",
      "  FOREIGN KEY( WORKDEPT )\n",
      "  REFERENCES SAMPLE.DEPARTMENT ( DEPTNO )\n",
      "  ON DELETE SET NULL\n",
      "  ON UPDATE NO ACTION ;\n",
      "\n",
      "ALTER TABLE SAMPLE.EMPLOYEE\n",
      "  ADD CONSTRAINT SAMPLE.NUMBER\n",
      "  CHECK( PHONENO >= '0000' AND PHONENO <= '9999' ) ;\n",
      "3 sample rows from EMPLOYEE:\n",
      "EMPNO\tFIRSTNME\tMIDINIT\tLASTNAME\tWORKDEPT\tPHONENO\tHIREDATE\tJOB\tEDLEVEL\tSEX\tBIRTHDATE\tSALARY\tBONUS\tCOMM\n",
      "000010\tCHRISTINE\tI\tHAAS\tA00\t3978\t65/01/01\tPRES\t18\tF\tNULL\t52750.0\t1000.0\t4220.0\n",
      "000020\tMICHAEL\tL\tTHOMPSON\tB01\t3476\t73/10/10\tMANAGER\t18\tM\t48/02/02\t41250.0\t800.0\t3300.0\n",
      "000030\tSALLY\tA\tKWAN\tC01\t4738\t75/04/05\tMANAGER\t20\tF\t41/05/11\t38250.0\t800.0\t3060.0\n"
     ]
    }
   ],
   "source": [
    "test_tables = db.get_table_info(['DEPARTMENT', 'EMPLOYEE'])\n",
    "print(test_tables)"
   ]
  },
  {
   "cell_type": "code",
   "execution_count": 7,
   "metadata": {},
   "outputs": [],
   "source": [
    "from typing_extensions import Annotated\n",
    "from langchain_core.prompts import ChatPromptTemplate, HumanMessagePromptTemplate\n",
    "\n",
    "\n",
    "class QueryOutput(TypedDict):\n",
    "    \"\"\"Generated SQL query.\"\"\"\n",
    "\n",
    "    query: Annotated[str, ..., \"Syntactically valid SQL query.\"]\n",
    "\n",
    "\n",
    "def write_query(state):\n",
    "    \"\"\"\n",
    "    Generate a SQL query based on the user question and database schema.\n",
    "    \"\"\"\n",
    "    # Create prompt for SQL query generation\n",
    "    prompt = ChatPromptTemplate.from_messages(\n",
    "        [\n",
    "            (\n",
    "                \"system\",\n",
    "                f\"\"\"You are a helpful SQL assistant that generates DB2 for i SQL queries based on user questions.\n",
    "                \n",
    "                Database schema:\n",
    "                {test_tables}\n",
    "                \n",
    "                Generate a clear and efficient SQL query that answers the user's question.\"\"\"\n",
    "            ),\n",
    "            (\"human\", \"{question}\"),\n",
    "        ]\n",
    "    )\n",
    "    \n",
    "    structured_llm = llm.with_structured_output(QueryOutput)\n",
    "    chain = prompt | structured_llm\n",
    "    \n",
    "    result = chain.invoke({\"question\": state[\"question\"]})\n",
    "    \n",
    "    return result\n"
   ]
  },
  {
   "cell_type": "code",
   "execution_count": 8,
   "metadata": {},
   "outputs": [
    {
     "data": {
      "text/plain": [
       "{'query': 'SELECT COUNT(EMPNO) , WORKDEPT FROM SAMPLE.EMPLOYEE GROUP BY WORKDEPT'}"
      ]
     },
     "execution_count": 8,
     "metadata": {},
     "output_type": "execute_result"
    }
   ],
   "source": [
    "write_query({\"question\": \"How many employees are in each department?\"})\n"
   ]
  },
  {
   "cell_type": "code",
   "execution_count": 9,
   "metadata": {},
   "outputs": [],
   "source": [
    "from db2i_tools.tools import QuerySQLDatabaseTool\n",
    "\n",
    "def execute_query(state: State):\n",
    "    \"\"\"Execute SQL query.\"\"\"\n",
    "    execute_query_tool = QuerySQLDatabaseTool(db=db)\n",
    "    return {\"result\": execute_query_tool.invoke(state[\"query\"])}"
   ]
  },
  {
   "cell_type": "code",
   "execution_count": 10,
   "metadata": {},
   "outputs": [],
   "source": [
    "result = execute_query({\"query\": \"SELECT COUNT(*) , DEPTNAME FROM SAMPLE.EMPLOYEE AS T1 JOIN SAMPLE.DEPARTMENT AS T2 ON T1.WORKDEPT = T2.DEPTNO GROUP BY DEPTNAME\"})"
   ]
  },
  {
   "cell_type": "code",
   "execution_count": 11,
   "metadata": {},
   "outputs": [
    {
     "data": {
      "text/plain": [
       "{'result': \"[(7, 'OPERATIONS'), (1, 'PLANNING'), (11, 'MANUFACTURING SYSTEMS'), (7, 'ADMINISTRATION SYSTEMS'), (4, 'INFORMATION CENTER'), (6, 'SOFTWARE SUPPORT'), (5, 'SPIFFY COMPUTER SERVICE DIV.'), (1, 'SUPPORT SERVICES')]\"}"
      ]
     },
     "execution_count": 11,
     "metadata": {},
     "output_type": "execute_result"
    }
   ],
   "source": [
    "result"
   ]
  },
  {
   "cell_type": "code",
   "execution_count": 12,
   "metadata": {},
   "outputs": [],
   "source": [
    "def generate_answer(state: State):\n",
    "    \"\"\"Answer question using retrieved information as context.\"\"\"\n",
    "    prompt = (\n",
    "        \"Given the following user question, corresponding SQL query, \"\n",
    "        \"and SQL result, answer the user question.\\n\\n\"\n",
    "        f'Question: {state[\"question\"]}\\n'\n",
    "        f'SQL Query: {state[\"query\"]}\\n'\n",
    "        f'SQL Result: {state[\"result\"]}'\n",
    "    )\n",
    "    response = llm.invoke(prompt)\n",
    "    return {\"answer\": response.content}\n",
    "\n"
   ]
  },
  {
   "cell_type": "code",
   "execution_count": 13,
   "metadata": {},
   "outputs": [],
   "source": [
    "from langgraph.graph import START, StateGraph\n",
    "\n",
    "graph_builder = StateGraph(State).add_sequence(\n",
    "    [write_query, execute_query, generate_answer]\n",
    ")\n",
    "graph_builder.add_edge(START, \"write_query\")\n",
    "graph = graph_builder.compile()"
   ]
  },
  {
   "cell_type": "code",
   "execution_count": 14,
   "metadata": {},
   "outputs": [
    {
     "data": {
      "image/png": "[encoded data removed]",
      "text/plain": [
       "<IPython.core.display.Image object>"
      ]
     },
     "metadata": {},
     "output_type": "display_data"
    }
   ],
   "source": [
    "from IPython.display import Image, display\n",
    "\n",
    "display(Image(graph.get_graph().draw_mermaid_png()))\n"
   ]
  },
  {
   "cell_type": "code",
   "execution_count": 15,
   "metadata": {},
   "outputs": [
    {
     "name": "stdout",
     "output_type": "stream",
     "text": [
      "{'write_query': {'query': 'SELECT COUNT(*) , WORKDEPT FROM SAMPLE.EMPLOYEE GROUP BY WORKDEPT'}}\n",
      "{'execute_query': {'result': \"[(7, 'E11'), (5, 'A00'), (7, 'D21'), (4, 'C01'), (1, 'E01'), (11, 'D11'), (1, 'B01'), (6, 'E21')]\"}}\n",
      "{'generate_answer': {'answer': \"Based on the SQL result, here's the answer to the user question:\\n\\nHow many employees are in each department?\\n\\nAccording to the results, there are:\\n\\n* 7 employees in Department E11\\n* 5 employees in Department A00\\n* 7 employees in Department D21\\n* 4 employees in Department C01\\n* 1 employee in Department E01\\n* 11 employees in Department D11\\n* 1 employee in Department B01\\n* 6 employees in Department E21\"}}\n"
     ]
    }
   ],
   "source": [
    "for step in graph.stream(\n",
    "    {\"question\": \"How many employees are in each department?\"}, stream_mode=\"updates\"\n",
    "):\n",
    "    print(step)\n",
    "\n"
   ]
  },
  {
   "cell_type": "markdown",
   "metadata": {},
   "source": [
    "## Human-in-the-loop"
   ]
  },
  {
   "cell_type": "code",
   "execution_count": 16,
   "metadata": {},
   "outputs": [],
   "source": [
    "from langgraph.checkpoint.memory import MemorySaver\n",
    "\n",
    "memory = MemorySaver()\n",
    "graph = graph_builder.compile(checkpointer=memory, interrupt_before=['execute_query'])\n",
    "\n",
    "# Now that we're using persistence, we need to specify a thread ID\n",
    "# so that we can continue the run after review.\n",
    "config = {\"configurable\": {\"thread_id\": 1}}\n"
   ]
  },
  {
   "cell_type": "code",
   "execution_count": 17,
   "metadata": {},
   "outputs": [
    {
     "data": {
      "image/png": "[encoded data removed]",
      "text/plain": [
       "<IPython.core.display.Image object>"
      ]
     },
     "metadata": {},
     "output_type": "display_data"
    }
   ],
   "source": [
    "display(Image(graph.get_graph().draw_mermaid_png()))"
   ]
  },
  {
   "cell_type": "code",
   "execution_count": 18,
   "metadata": {},
   "outputs": [
    {
     "name": "stdout",
     "output_type": "stream",
     "text": [
      "{'write_query': {'query': 'SELECT COUNT(*) FROM SAMPLE.EMPLOYEE'}}\n",
      "{'__interrupt__': ()}\n",
      "{'execute_query': {'result': '[(42,)]'}}\n",
      "{'generate_answer': {'answer': 'There are 42 employees.'}}\n"
     ]
    }
   ],
   "source": [
    "for step in graph.stream(\n",
    "    {\"question\": \"How many employees are there?\"},\n",
    "    config,\n",
    "    stream_mode=\"updates\",\n",
    "):\n",
    "    print(step)\n",
    "\n",
    "try:\n",
    "    user_approval = input(\"Do you want to go to execute query? (yes/no): \")\n",
    "except Exception:\n",
    "    user_approval = \"no\"\n",
    "\n",
    "if user_approval.lower() == \"yes\":\n",
    "    # If approved, continue the graph execution\n",
    "    for step in graph.stream(None, config, stream_mode=\"updates\"):\n",
    "        print(step)\n",
    "else:\n",
    "    print(\"Operation cancelled by user.\")"
   ]
  },
  {
   "cell_type": "markdown",
   "metadata": {},
   "source": [
    "## Agents\n",
    "\n",
    "Agents leverage the reasoning capabilities of LLMs to make descisions during execution. Using agents allows you to offload additional discretion over the query generation and execution process. Although their behavior is less predictable than the above \"chain\", they feature some advantages:\n",
    "\n",
    "- They can query the database as many times as needed to answer the user question.\n",
    "- They can recover from errors by running a generated query, catching the traceback and regenerating it correctly.\n",
    "- They can answer questions based on the databases' schema as well as on the databases' content (like describing a specific table).\n",
    "\n",
    "Below is a minimal example of an SQL agent using [`Db2iDatabaseToolkit`](db2i_tools/toolkit.py)\n",
    "\n",
    "The `Db2iDatabaseToolkit` has tools that can:\n",
    "- create an execute queries\n",
    "- check query syntax\n",
    "- retrieve table descriptions\n"
   ]
  },
  {
   "cell_type": "markdown",
   "metadata": {},
   "source": []
  },
  {
   "cell_type": "code",
   "execution_count": 20,
   "metadata": {},
   "outputs": [
    {
     "data": {
      "text/plain": [
       "[QuerySQLDatabaseTool(description=\"Input to this tool is a detailed and correct SQL query, output is a result from the database. If the query is not correct, an error message will be returned. If an error is returned, rewrite the query, check the query, and try again. If you encounter an issue with Unknown column 'xxxx' in 'field list', use sql_db_schema to query the correct table fields.\", db=<db2i_tools.database.Db2iDatabase object at 0x123931790>),\n",
       " InfoSQLDatabaseTool(description='Input to this tool is a comma-separated list of tables, output is the schema and sample rows for those tables. Be sure that the tables actually exist by calling sql_db_list_tables first! Example Input: table1, table2, table3', db=<db2i_tools.database.Db2iDatabase object at 0x123931790>),\n",
       " ListSQLDatabaseTool(db=<db2i_tools.database.Db2iDatabase object at 0x123931790>),\n",
       " QuerySQLCheckerTool(description='Use this tool to double check if your query is correct before executing it. Always use this tool before executing a query with sql_db_query!', db=<db2i_tools.database.Db2iDatabase object at 0x123931790>, llm=ChatOllama(model='llama3.1:latest'), llm_chain=LLMChain(verbose=False, prompt=PromptTemplate(input_variables=['dialect', 'query'], input_types={}, partial_variables={}, template='\\n{query}\\nDouble check the {dialect} query above for common mistakes, including:\\n- Using NOT IN with NULL values\\n- Using UNION when UNION ALL should have been used\\n- Using BETWEEN for exclusive ranges\\n- Data type mismatch in predicates\\n- Properly quoting identifiers\\n- Using the correct number of arguments for functions\\n- Casting to the correct data type\\n- Using the proper columns for joins\\n\\nIf there are any of the above mistakes, rewrite the query. If there are no mistakes, just reproduce the original query.\\n\\nOutput the final SQL query only.\\n\\nSQL Query: '), llm=ChatOllama(model='llama3.1:latest'), output_parser=StrOutputParser(), llm_kwargs={}))]"
      ]
     },
     "execution_count": 20,
     "metadata": {},
     "output_type": "execute_result"
    }
   ],
   "source": [
    "from db2i_tools.toolkit import Db2iDatabaseToolkit\n",
    "\n",
    "toolkit = Db2iDatabaseToolkit(db=db, llm=llm)\n",
    "\n",
    "tools = toolkit.get_tools()\n",
    "tools"
   ]
  },
  {
   "cell_type": "code",
   "execution_count": 21,
   "metadata": {},
   "outputs": [
    {
     "name": "stdout",
     "output_type": "stream",
     "text": [
      "================================\u001b[1m System Message \u001b[0m================================\n",
      "\n",
      "You are an agent designed to interact with a SQL database.\n",
      "Given an input question, create a syntactically correct \u001b[33;1m\u001b[1;3m{dialect}\u001b[0m query to run, then look at the results of the query and return the answer.\n",
      "Unless the user specifies a specific number of examples they wish to obtain, always limit your query to at most \u001b[33;1m\u001b[1;3m{top_k}\u001b[0m results.\n",
      "You can order the results by a relevant column to return the most interesting examples in the database.\n",
      "Never query for all the columns from a specific table, only ask for the relevant columns given the question.\n",
      "You have access to tools for interacting with the database.\n",
      "Only use the below tools. Only use the information returned by the below tools to construct your final answer.\n",
      "You MUST double check your query before executing it. If you get an error while executing a query, rewrite the query and try again.\n",
      "\n",
      "DO NOT make any DML statements (INSERT, UPDATE, DELETE, DROP etc.) to the database.\n",
      "\n",
      "To start you should ALWAYS look at the tables in the database to see what you can query.\n",
      "Do NOT skip this step.\n",
      "Then you should query the schema of the most relevant tables.\n"
     ]
    },
    {
     "name": "stderr",
     "output_type": "stream",
     "text": [
      "/Users/adamshedivy/Documents/IBM/sandbox/oss/ai/db2i-ai/db2i-agents/examples/agents/langchain/.venv/lib/python3.12/site-packages/langsmith/client.py:253: LangSmithMissingAPIKeyWarning: API key must be provided when using hosted LangSmith API\n",
      "  warnings.warn(\n"
     ]
    }
   ],
   "source": [
    "from langchain import hub\n",
    "\n",
    "prompt_template = hub.pull(\"langchain-ai/sql-agent-system-prompt\")\n",
    "\n",
    "assert len(prompt_template.messages) == 1\n",
    "prompt_template.messages[0].pretty_print()"
   ]
  },
  {
   "cell_type": "code",
   "execution_count": null,
   "metadata": {},
   "outputs": [],
   "source": [
    "system_message = prompt_template.format(dialect=\"Db2i\", top_k=5)"
   ]
  },
  {
   "cell_type": "code",
   "execution_count": 39,
   "metadata": {},
   "outputs": [],
   "source": [
    "from langchain_core.messages import HumanMessage\n",
    "from langgraph.prebuilt import create_react_agent\n",
    "from langchain_anthropic import ChatAnthropic\n",
    "\n",
    "llm = ChatAnthropic(model=\"claude-3-sonnet-20240229\")\n",
    "\n",
    "agent_executor = create_react_agent(llm, tools, prompt=system_message)"
   ]
  },
  {
   "cell_type": "code",
   "execution_count": 40,
   "metadata": {},
   "outputs": [
    {
     "name": "stdout",
     "output_type": "stream",
     "text": [
      "================================\u001b[1m Human Message \u001b[0m=================================\n",
      "\n",
      "describe the employee table\n",
      "==================================\u001b[1m Ai Message \u001b[0m==================================\n",
      "\n",
      "[{'text': \"Okay, let's first get a list of the tables in the database:\", 'type': 'text'}, {'id': 'toolu_01X8bybPoTQkQ7DXCm1eSpdH', 'input': {'tool_input': ' '}, 'name': 'sql_db_list_tables', 'type': 'tool_use'}]\n",
      "Tool Calls:\n",
      "  sql_db_list_tables (toolu_01X8bybPoTQkQ7DXCm1eSpdH)\n",
      " Call ID: toolu_01X8bybPoTQkQ7DXCm1eSpdH\n",
      "  Args:\n",
      "    tool_input:\n",
      "=================================\u001b[1m Tool Message \u001b[0m=================================\n",
      "Name: sql_db_list_tables\n",
      "\n",
      "ACT, AVERAGE_SALARY_PER_DEPARTMENT, CL_SCHED, DELETEMEPY, DEPARTMENT, DEPARTMENTS, EMPLOYEE, EMPLOYEES, EMPPROJACT, EMP_PHOTO, EMP_RESUME, IN_TRAY, ORG, PROJACT, PROJECT, RANDOMDATA, SALES, STAFF\n",
      "==================================\u001b[1m Ai Message \u001b[0m==================================\n",
      "\n",
      "[{'text': \"The EMPLOYEE table is listed, so let's check its schema:\", 'type': 'text'}, {'id': 'toolu_01HgwiMQ79xodRcNDPkRB12M', 'input': {'table_names': 'EMPLOYEE'}, 'name': 'sql_db_schema', 'type': 'tool_use'}]\n",
      "Tool Calls:\n",
      "  sql_db_schema (toolu_01HgwiMQ79xodRcNDPkRB12M)\n",
      " Call ID: toolu_01HgwiMQ79xodRcNDPkRB12M\n",
      "  Args:\n",
      "    table_names: EMPLOYEE\n",
      "=================================\u001b[1m Tool Message \u001b[0m=================================\n",
      "Name: sql_db_schema\n",
      "\n",
      "--  Generate SQL\n",
      "--  Version:                   V7R4M0 190621\n",
      "--  Generated on:              25/03/13 18:51:29\n",
      "--  Relational Database:       E7001B91\n",
      "--  Standards Option:          Db2 for i\n",
      "\n",
      "CREATE OR REPLACE TABLE SAMPLE.EMPLOYEE (\n",
      "  EMPNO CHAR(6) CCSID 273 NOT NULL ,\n",
      "  FIRSTNME VARCHAR(12) CCSID 273 NOT NULL ,\n",
      "  MIDINIT CHAR(1) CCSID 273 NOT NULL ,\n",
      "  LASTNAME VARCHAR(15) CCSID 273 NOT NULL ,\n",
      "  WORKDEPT CHAR(3) CCSID 273 DEFAULT NULL ,\n",
      "  PHONENO CHAR(4) CCSID 273 DEFAULT NULL ,\n",
      "  HIREDATE DATE DEFAULT NULL ,\n",
      "  JOB CHAR(8) CCSID 273 DEFAULT NULL ,\n",
      "  EDLEVEL SMALLINT NOT NULL ,\n",
      "  SEX CHAR(1) CCSID 273 DEFAULT NULL ,\n",
      "  BIRTHDATE DATE DEFAULT NULL ,\n",
      "  SALARY DECIMAL(9, 2) DEFAULT NULL ,\n",
      "  BONUS DECIMAL(9, 2) DEFAULT NULL ,\n",
      "  COMM DECIMAL(9, 2) DEFAULT NULL ,\n",
      "  CONSTRAINT SAMPLE.Q_SAMPLE_EMPLOYEE_EMPNO_00001 PRIMARY KEY( EMPNO ) )\n",
      "\n",
      "  RCDFMT EMPLOYEE   ;\n",
      "\n",
      "ALTER TABLE SAMPLE.EMPLOYEE\n",
      "  ADD CONSTRAINT SAMPLE.RED\n",
      "  FOREIGN KEY( WORKDEPT )\n",
      "  REFERENCES SAMPLE.DEPARTMENT ( DEPTNO )\n",
      "  ON DELETE SET NULL\n",
      "  ON UPDATE NO ACTION ;\n",
      "\n",
      "ALTER TABLE SAMPLE.EMPLOYEE\n",
      "  ADD CONSTRAINT SAMPLE.NUMBER\n",
      "  CHECK( PHONENO >= '0000' AND PHONENO <= '9999' ) ;\n",
      "3 sample rows from EMPLOYEE:\n",
      "EMPNO\tFIRSTNME\tMIDINIT\tLASTNAME\tWORKDEPT\tPHONENO\tHIREDATE\tJOB\tEDLEVEL\tSEX\tBIRTHDATE\tSALARY\tBONUS\tCOMM\n",
      "000010\tCHRISTINE\tI\tHAAS\tA00\t3978\t65/01/01\tPRES\t18\tF\tNULL\t52750.0\t1000.0\t4220.0\n",
      "000020\tMICHAEL\tL\tTHOMPSON\tB01\t3476\t73/10/10\tMANAGER\t18\tM\t48/02/02\t41250.0\t800.0\t3300.0\n",
      "000030\tSALLY\tA\tKWAN\tC01\t4738\t75/04/05\tMANAGER\t20\tF\t41/05/11\t38250.0\t800.0\t3060.0\n",
      "==================================\u001b[1m Ai Message \u001b[0m==================================\n",
      "\n",
      "The EMPLOYEE table contains employee information like employee number, name, department, job, hire date, salary and bonus details. The key columns are EMPNO and WORKDEPT which references the DEPARTMENT table via a foreign key constraint.\n",
      "\n",
      "Some relevant columns for describing employees based on the schema are: FIRSTNME, LASTNAME, WORKDEPT, JOB, HIREDATE, SALARY, BONUS.\n",
      "\n",
      "Let me know if you need any other details about this table!\n"
     ]
    }
   ],
   "source": [
    "question = \"describe the employee table\"\n",
    "\n",
    "for step in agent_executor.stream(\n",
    "    {\"messages\": [{\"role\": \"user\", \"content\": question}]},\n",
    "    stream_mode=\"values\",\n",
    "):\n",
    "    step[\"messages\"][-1].pretty_print()"
   ]
  },
  {
   "cell_type": "code",
   "execution_count": null,
   "metadata": {},
   "outputs": [],
   "source": []
  }
 ],
 "metadata": {
  "kernelspec": {
   "display_name": ".venv",
   "language": "python",
   "name": "python3"
  },
  "language_info": {
   "codemirror_mode": {
    "name": "ipython",
    "version": 3
   },
   "file_extension": ".py",
   "mimetype": "text/x-python",
   "name": "python",
   "nbconvert_exporter": "python",
   "pygments_lexer": "ipython3",
   "version": "3.12.7"
  }
 },
 "nbformat": 4,
 "nbformat_minor": 2
}
