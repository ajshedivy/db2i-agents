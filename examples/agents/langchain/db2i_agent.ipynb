{
 "cells": [
  {
   "cell_type": "markdown",
   "metadata": {},
   "source": [
    "# DB2i Agent - LangChain Example\n",
    "\n",
    "## Architecture\n",
    "\n",
    "At a high-level, the steps of these systems are:\n",
    "\n",
    "1. Convert question to SQL query: Model converts user input to a SQL query.\n",
    "2. Execute SQL query: Execute the query.\n",
    "3. Answer the question: Model responds to user input using the query results.\n",
    "\n",
    "## Model\n",
    "\n",
    "For this demo, we are using `llama3.1` with Ollama\n"
   ]
  },
  {
   "cell_type": "code",
   "execution_count": 35,
   "metadata": {},
   "outputs": [],
   "source": [
    "from dotenv import load_dotenv\n",
    "import os\n",
    "\n",
    "def load_connection():\n",
    "    connection_details = {\n",
    "        \"host\": os.getenv(\"HOST\"),\n",
    "        \"user\": os.getenv(\"DB_USER\"),\n",
    "        \"port\": os.getenv(\"PORT\", 8075),\n",
    "        \"password\": os.getenv(\"PASSWORD\"),\n",
    "        \"schema\": os.getenv(\"SCHEMA\"),\n",
    "    }\n",
    "    return connection_details\n",
    "\n",
    "load_dotenv()\n",
    "config = load_connection()\n",
    "SCHEMA = 'SAMPLE'"
   ]
  },
  {
   "cell_type": "code",
   "execution_count": 2,
   "metadata": {},
   "outputs": [
    {
     "name": "stdout",
     "output_type": "stream",
     "text": [
      "['ACT', 'AVERAGE_SALARY_PER_DEPARTMENT', 'CL_SCHED', 'DELETEMEPY', 'DEPARTMENT', 'DEPARTMENTS', 'EMPLOYEE', 'EMPLOYEES', 'EMPPROJACT', 'EMP_PHOTO', 'EMP_RESUME', 'IN_TRAY', 'ORG', 'PROJACT', 'PROJECT', 'RANDOMDATA', 'SALES', 'STAFF']\n"
     ]
    }
   ],
   "source": [
    "from tools.database import Db2iDatabase\n",
    "\n",
    "db = Db2iDatabase(schema=SCHEMA, server_config=config)\n",
    "print(db.get_usable_table_names())"
   ]
  },
  {
   "cell_type": "code",
   "execution_count": 3,
   "metadata": {},
   "outputs": [],
   "source": [
    "from typing_extensions import TypedDict\n",
    "\n",
    "class State(TypedDict):\n",
    "    question: str\n",
    "    query: str\n",
    "    result: str\n",
    "    answer: str\n",
    "\n"
   ]
  },
  {
   "cell_type": "code",
   "execution_count": null,
   "metadata": {},
   "outputs": [],
   "source": [
    "from langchain_ollama import ChatOllama\n",
    "\n",
    "llm = ChatOllama(\n",
    "    model=\"llama3.1:latest\"\n",
    ")"
   ]
  },
  {
   "cell_type": "code",
   "execution_count": 15,
   "metadata": {},
   "outputs": [
    {
     "name": "stdout",
     "output_type": "stream",
     "text": [
      "--  Generate SQL\n",
      "--  Version:                   V7R4M0 190621\n",
      "--  Generated on:              25/03/10 21:21:01\n",
      "--  Relational Database:       E7001B91\n",
      "--  Standards Option:          Db2 for i\n",
      "\n",
      "CREATE OR REPLACE TABLE SAMPLE.DEPARTMENT (\n",
      "  DEPTNO CHAR(3) CCSID 273 NOT NULL ,\n",
      "  DEPTNAME VARCHAR(36) CCSID 273 NOT NULL ,\n",
      "  MGRNO CHAR(6) CCSID 273 DEFAULT NULL ,\n",
      "  ADMRDEPT CHAR(3) CCSID 273 NOT NULL ,\n",
      "  \"LOCATION\" CHAR(16) CCSID 273 DEFAULT NULL ,\n",
      "  CONSTRAINT SAMPLE.Q_SAMPLE_DEPARTMENT_DEPTNO_00001 PRIMARY KEY( DEPTNO ) )\n",
      "\n",
      "  RCDFMT DEPARTMENT ;\n",
      "\n",
      "ALTER TABLE SAMPLE.DEPARTMENT\n",
      "  ADD CONSTRAINT SAMPLE.ROD\n",
      "  FOREIGN KEY( ADMRDEPT )\n",
      "  REFERENCES SAMPLE.DEPARTMENT ( DEPTNO )\n",
      "  ON DELETE CASCADE\n",
      "  ON UPDATE NO ACTION ;\n",
      "\n",
      "ALTER TABLE SAMPLE.DEPARTMENT\n",
      "  ADD CONSTRAINT SAMPLE.RDE\n",
      "  FOREIGN KEY( MGRNO )\n",
      "  REFERENCES SAMPLE.EMPLOYEE ( EMPNO )\n",
      "  ON DELETE SET NULL\n",
      "  ON UPDATE NO ACTION ;\n",
      "3 sample rows from DEPARTMENT:\n",
      "DEPTNO\tDEPTNAME\tMGRNO\tADMRDEPT\tLOCATION\n",
      "A00\tSPIFFY COMPUTER SERVICE DIV.\t000010\tA00\tNULL\n",
      "B01\tPLANNING\t000020\tA00\tNULL\n",
      "C01\tINFORMATION CENTER\t000030\tA00\tNULL\n",
      "\n",
      "--  Generate SQL\n",
      "--  Version:                   V7R4M0 190621\n",
      "--  Generated on:              25/03/10 21:21:04\n",
      "--  Relational Database:       E7001B91\n",
      "--  Standards Option:          Db2 for i\n",
      "\n",
      "CREATE OR REPLACE TABLE SAMPLE.EMPLOYEE (\n",
      "  EMPNO CHAR(6) CCSID 273 NOT NULL ,\n",
      "  FIRSTNME VARCHAR(12) CCSID 273 NOT NULL ,\n",
      "  MIDINIT CHAR(1) CCSID 273 NOT NULL ,\n",
      "  LASTNAME VARCHAR(15) CCSID 273 NOT NULL ,\n",
      "  WORKDEPT CHAR(3) CCSID 273 DEFAULT NULL ,\n",
      "  PHONENO CHAR(4) CCSID 273 DEFAULT NULL ,\n",
      "  HIREDATE DATE DEFAULT NULL ,\n",
      "  JOB CHAR(8) CCSID 273 DEFAULT NULL ,\n",
      "  EDLEVEL SMALLINT NOT NULL ,\n",
      "  SEX CHAR(1) CCSID 273 DEFAULT NULL ,\n",
      "  BIRTHDATE DATE DEFAULT NULL ,\n",
      "  SALARY DECIMAL(9, 2) DEFAULT NULL ,\n",
      "  BONUS DECIMAL(9, 2) DEFAULT NULL ,\n",
      "  COMM DECIMAL(9, 2) DEFAULT NULL ,\n",
      "  CONSTRAINT SAMPLE.Q_SAMPLE_EMPLOYEE_EMPNO_00001 PRIMARY KEY( EMPNO ) )\n",
      "\n",
      "  RCDFMT EMPLOYEE   ;\n",
      "\n",
      "ALTER TABLE SAMPLE.EMPLOYEE\n",
      "  ADD CONSTRAINT SAMPLE.RED\n",
      "  FOREIGN KEY( WORKDEPT )\n",
      "  REFERENCES SAMPLE.DEPARTMENT ( DEPTNO )\n",
      "  ON DELETE SET NULL\n",
      "  ON UPDATE NO ACTION ;\n",
      "\n",
      "ALTER TABLE SAMPLE.EMPLOYEE\n",
      "  ADD CONSTRAINT SAMPLE.NUMBER\n",
      "  CHECK( PHONENO >= '0000' AND PHONENO <= '9999' ) ;\n",
      "3 sample rows from EMPLOYEE:\n",
      "EMPNO\tFIRSTNME\tMIDINIT\tLASTNAME\tWORKDEPT\tPHONENO\tHIREDATE\tJOB\tEDLEVEL\tSEX\tBIRTHDATE\tSALARY\tBONUS\tCOMM\n",
      "000010\tCHRISTINE\tI\tHAAS\tA00\t3978\t65/01/01\tPRES\t18\tF\tNULL\t52750.0\t1000.0\t4220.0\n",
      "000020\tMICHAEL\tL\tTHOMPSON\tB01\t3476\t73/10/10\tMANAGER\t18\tM\t48/02/02\t41250.0\t800.0\t3300.0\n",
      "000030\tSALLY\tA\tKWAN\tC01\t4738\t75/04/05\tMANAGER\t20\tF\t41/05/11\t38250.0\t800.0\t3060.0\n"
     ]
    }
   ],
   "source": [
    "test_tables = db.get_table_info(['DEPARTMENT', 'EMPLOYEE'])\n",
    "print(test_tables)"
   ]
  },
  {
   "cell_type": "code",
   "execution_count": 36,
   "metadata": {},
   "outputs": [],
   "source": [
    "from typing_extensions import Annotated\n",
    "from langchain_core.prompts import ChatPromptTemplate, HumanMessagePromptTemplate\n",
    "\n",
    "\n",
    "class QueryOutput(TypedDict):\n",
    "    \"\"\"Generated SQL query.\"\"\"\n",
    "\n",
    "    query: Annotated[str, ..., \"Syntactically valid SQL query.\"]\n",
    "\n",
    "\n",
    "def write_query(state):\n",
    "    \"\"\"\n",
    "    Generate a SQL query based on the user question and database schema.\n",
    "    \"\"\"\n",
    "    # Create prompt for SQL query generation\n",
    "    prompt = ChatPromptTemplate.from_messages(\n",
    "        [\n",
    "            (\n",
    "                \"system\",\n",
    "                f\"\"\"You are a helpful SQL assistant that generates DB2 for i SQL queries based on user questions.\n",
    "                \n",
    "                Database schema:\n",
    "                {test_tables}\n",
    "                \n",
    "                Generate a clear and efficient SQL query that answers the user's question.\"\"\"\n",
    "            ),\n",
    "            (\"human\", \"{question}\"),\n",
    "        ]\n",
    "    )\n",
    "    \n",
    "    structured_llm = llm.with_structured_output(QueryOutput)\n",
    "    chain = prompt | structured_llm\n",
    "    \n",
    "    result = chain.invoke({\"question\": state[\"question\"]})\n",
    "    \n",
    "    return result\n"
   ]
  },
  {
   "cell_type": "code",
   "execution_count": 37,
   "metadata": {},
   "outputs": [
    {
     "data": {
      "text/plain": [
       "{'query': 'SELECT COUNT(T1.EMPNO) AS EMP_COUNT, T2.DEPARTMENT FROM SAMPLE.EMPLOYEE AS T1 JOIN SAMPLE.DEPARTMENT AS T2 ON T1.WORKDEPT = T2.DEPTNO GROUP BY T2.DEPARTMENT'}"
      ]
     },
     "execution_count": 37,
     "metadata": {},
     "output_type": "execute_result"
    }
   ],
   "source": [
    "write_query({\"question\": \"How many employees are in each department?\"})\n"
   ]
  },
  {
   "cell_type": "code",
   "execution_count": 17,
   "metadata": {},
   "outputs": [],
   "source": [
    "from tools.tools import QuerySQLDatabaseTool\n",
    "\n",
    "def execute_query(state: State):\n",
    "    \"\"\"Execute SQL query.\"\"\"\n",
    "    execute_query_tool = QuerySQLDatabaseTool(db=db)\n",
    "    return {\"result\": execute_query_tool.invoke(state[\"query\"])}"
   ]
  },
  {
   "cell_type": "code",
   "execution_count": 18,
   "metadata": {},
   "outputs": [
    {
     "name": "stdout",
     "output_type": "stream",
     "text": [
      "[{'00001': 7, 'DEPTNAME': 'OPERATIONS'}, {'00001': 1, 'DEPTNAME': 'PLANNING'}, {'00001': 11, 'DEPTNAME': 'MANUFACTURING SYSTEMS'}, {'00001': 7, 'DEPTNAME': 'ADMINISTRATION SYSTEMS'}, {'00001': 4, 'DEPTNAME': 'INFORMATION CENTER'}, {'00001': 6, 'DEPTNAME': 'SOFTWARE SUPPORT'}, {'00001': 5, 'DEPTNAME': 'SPIFFY COMPUTER SERVICE DIV.'}, {'00001': 1, 'DEPTNAME': 'SUPPORT SERVICES'}]\n"
     ]
    }
   ],
   "source": [
    "result = execute_query({\"query\": \"SELECT COUNT(*) , DEPTNAME FROM SAMPLE.EMPLOYEE AS T1 JOIN SAMPLE.DEPARTMENT AS T2 ON T1.WORKDEPT = T2.DEPTNO GROUP BY DEPTNAME\"})"
   ]
  },
  {
   "cell_type": "code",
   "execution_count": 24,
   "metadata": {},
   "outputs": [
    {
     "data": {
      "text/plain": [
       "{'result': \"[(7, 'OPERATIONS'), (1, 'PLANNING'), (11, 'MANUFACTURING SYSTEMS'), (7, 'ADMINISTRATION SYSTEMS'), (4, 'INFORMATION CENTER'), (6, 'SOFTWARE SUPPORT'), (5, 'SPIFFY COMPUTER SERVICE DIV.'), (1, 'SUPPORT SERVICES')]\"}"
      ]
     },
     "execution_count": 24,
     "metadata": {},
     "output_type": "execute_result"
    }
   ],
   "source": [
    "result"
   ]
  },
  {
   "cell_type": "code",
   "execution_count": 25,
   "metadata": {},
   "outputs": [],
   "source": [
    "def generate_answer(state: State):\n",
    "    \"\"\"Answer question using retrieved information as context.\"\"\"\n",
    "    prompt = (\n",
    "        \"Given the following user question, corresponding SQL query, \"\n",
    "        \"and SQL result, answer the user question.\\n\\n\"\n",
    "        f'Question: {state[\"question\"]}\\n'\n",
    "        f'SQL Query: {state[\"query\"]}\\n'\n",
    "        f'SQL Result: {state[\"result\"]}'\n",
    "    )\n",
    "    response = llm.invoke(prompt)\n",
    "    return {\"answer\": response.content}\n",
    "\n"
   ]
  },
  {
   "cell_type": "code",
   "execution_count": 38,
   "metadata": {},
   "outputs": [],
   "source": [
    "from langgraph.graph import START, StateGraph\n",
    "\n",
    "graph_builder = StateGraph(State).add_sequence(\n",
    "    [write_query, execute_query, generate_answer]\n",
    ")\n",
    "graph_builder.add_edge(START, \"write_query\")\n",
    "graph = graph_builder.compile()"
   ]
  },
  {
   "cell_type": "code",
   "execution_count": 39,
   "metadata": {},
   "outputs": [
    {
     "data": {
      "image/png": "[encoded data removed]",
      "text/plain": [
       "<IPython.core.display.Image object>"
      ]
     },
     "metadata": {},
     "output_type": "display_data"
    }
   ],
   "source": [
    "from IPython.display import Image, display\n",
    "\n",
    "display(Image(graph.get_graph().draw_mermaid_png()))\n"
   ]
  },
  {
   "cell_type": "code",
   "execution_count": 40,
   "metadata": {},
   "outputs": [
    {
     "name": "stdout",
     "output_type": "stream",
     "text": [
      "{'write_query': {'query': 'SELECT count(*) as employee_count, WORKDEPT FROM SAMPLE.EMPLOYEE GROUP BY WORKDEPT'}}\n",
      "[{'EMPLOYEE_COUNT': 7, 'WORKDEPT': 'E11'}, {'EMPLOYEE_COUNT': 5, 'WORKDEPT': 'A00'}, {'EMPLOYEE_COUNT': 7, 'WORKDEPT': 'D21'}, {'EMPLOYEE_COUNT': 4, 'WORKDEPT': 'C01'}, {'EMPLOYEE_COUNT': 1, 'WORKDEPT': 'E01'}, {'EMPLOYEE_COUNT': 11, 'WORKDEPT': 'D11'}, {'EMPLOYEE_COUNT': 1, 'WORKDEPT': 'B01'}, {'EMPLOYEE_COUNT': 6, 'WORKDEPT': 'E21'}]\n",
      "{'execute_query': {'result': \"[(7, 'E11'), (5, 'A00'), (7, 'D21'), (4, 'C01'), (1, 'E01'), (11, 'D11'), (1, 'B01'), (6, 'E21')]\"}}\n",
      "{'generate_answer': {'answer': 'How many employees are in each department?\\n\\nThere are 7 employees in Department E11, 5 in A00, 7 in D21, 4 in C01, 1 in E01, 11 in D11, and 1 in B01. There are also 6 employees in E21.'}}\n"
     ]
    }
   ],
   "source": [
    "for step in graph.stream(\n",
    "    {\"question\": \"How many employees are in each department?\"}, stream_mode=\"updates\"\n",
    "):\n",
    "    print(step)\n",
    "\n"
   ]
  },
  {
   "cell_type": "code",
   "execution_count": null,
   "metadata": {},
   "outputs": [],
   "source": []
  }
 ],
 "metadata": {
  "kernelspec": {
   "display_name": ".venv",
   "language": "python",
   "name": "python3"
  },
  "language_info": {
   "codemirror_mode": {
    "name": "ipython",
    "version": 3
   },
   "file_extension": ".py",
   "mimetype": "text/x-python",
   "name": "python",
   "nbconvert_exporter": "python",
   "pygments_lexer": "ipython3",
   "version": "3.12.7"
  }
 },
 "nbformat": 4,
 "nbformat_minor": 2
}
