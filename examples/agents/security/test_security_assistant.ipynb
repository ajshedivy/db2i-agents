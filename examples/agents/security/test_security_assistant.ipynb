{
 "cells": [
  {
   "cell_type": "markdown",
   "id": "38492369",
   "metadata": {},
   "source": [
    "# IBM i Security SQL Statements Test\n",
    "\n",
    "This notebook tests the SQL statements used in the security_assistant.py file. It uses the same DB2 for i services to check for user profiles exposed to potential security vulnerabilities and to generate corrective measures.\n",
    "\n",
    "Date: June 6, 2025"
   ]
  },
  {
   "cell_type": "code",
   "execution_count": 11,
   "id": "0d051189",
   "metadata": {},
   "outputs": [],
   "source": [
    "from mapepire_python import connect\n",
    "import os\n",
    "from textwrap import dedent\n",
    "from typing import Any, Dict, Optional\n",
    "\n",
    "from agno.agent import Agent\n",
    "from agno.models.openai import OpenAIChat\n",
    "from agno.models.ollama import Ollama\n",
    "from agno.tools import tool\n",
    "from dotenv import load_dotenv\n",
    "from mapepire_python import connect\n",
    "from pep249 import QueryParameters\n",
    "from dotenv import load_dotenv"
   ]
  },
  {
   "cell_type": "code",
   "execution_count": 12,
   "id": "f04f9c5f",
   "metadata": {},
   "outputs": [],
   "source": [
    "load_dotenv()\n",
    "\n",
    "credentials = {\n",
    "    \"host\": os.getenv(\"HOST\"),\n",
    "    \"user\": os.getenv(\"DB_USER\"),\n",
    "    \"password\": os.getenv(\"PASSWORD\"),\n",
    "    \"port\": os.getenv(\"DB_PORT\"),\n",
    "}\n",
    "\n",
    "def run_sql_statement(\n",
    "    sql: str,\n",
    "    parameters: Optional[QueryParameters] = None,\n",
    "    creds: Dict[str, Any] = credentials,\n",
    ") -> Any:\n",
    "    with connect(creds) as conn:\n",
    "        with conn.execute(sql, parameters=parameters) as cur:\n",
    "            if cur.has_results:\n",
    "                result = cur.fetchall()\n",
    "                return result[\"data\"]\n",
    "            else:\n",
    "                return \"SQL executed successfully. No results returned.\"\n",
    "\n"
   ]
  },
  {
   "cell_type": "code",
   "execution_count": 13,
   "id": "09c24b71",
   "metadata": {},
   "outputs": [],
   "source": [
    "# Define the SQL statements from security_assistant.py\n",
    "sql = {\n",
    "    \"security_metrics\": {\n",
    "        \"count_exposed_profiles\": {\n",
    "            \"name\": \"Count Exposed User Profiles\",\n",
    "            \"description\": \"How many *USRPRF's do not have *PUBLIC set to *EXCLUDE?\",\n",
    "            \"sql\": dedent(\n",
    "                \"\"\"\n",
    "                SELECT COUNT(*)\n",
    "                FROM qsys2.object_privileges\n",
    "                WHERE system_object_schema = 'QSYS' AND object_type = '*USRPRF' AND object_name NOT IN ('QDBSHR',\n",
    "                        'QDBSHRDO', 'QDOC', 'QTMPLPD') AND user_name = '*PUBLIC' AND object_authority <>\n",
    "                        '*EXCLUDE'\n",
    "                \"\"\"\n",
    "            ),\n",
    "        },\n",
    "        \"list_exposed_profiles\": {\n",
    "            \"name\": \"List Exposed User Profiles\",\n",
    "            \"description\": \"Which *USRPRF's do not have *PUBLIC set to *EXCLUDE?\",\n",
    "            \"sql\": dedent(\n",
    "                \"\"\"\n",
    "                SELECT object_name AS user_name, object_authority\n",
    "                FROM qsys2.object_privileges\n",
    "                WHERE system_object_schema = 'QSYS' AND object_type = '*USRPRF' AND object_name NOT IN ('QDBSHR',\n",
    "                        'QDBSHRDO', 'QDOC', 'QTMPLPD') AND user_name = '*PUBLIC' AND object_authority <>\n",
    "                        '*EXCLUDE'\n",
    "                \n",
    "                \"\"\"\n",
    "            ),\n",
    "        },\n",
    "        \"fix_exposed_profiles\": {\n",
    "            \"name\": \"Fix Exposed User Profiles\",\n",
    "            \"description\": \"Which *USRPRF's do not have *PUBLIC set to *EXCLUDE? Include a query that corrects the exposure\",\n",
    "            \"sql\": dedent(\n",
    "                \"\"\"\n",
    "                SELECT object_name AS user_name, object_authority,\n",
    "                'SELECT qsys2.qcmdexc(''GRTOBJAUT OBJ(QSYS/' || object_name || ') OBJTYPE(*USRPRF) USER(*PUBLIC) AUT(*EXCLUDE)'') FROM sysibm.sysdummy1'\n",
    "                    AS corrective_query\n",
    "                FROM qsys2.object_privileges\n",
    "                WHERE system_object_schema = 'QSYS' AND object_type = '*USRPRF' AND object_name NOT IN ('QDBSHR',\n",
    "                        'QDBSHRDO', 'QDOC', 'QTMPLPD') AND user_name = '*PUBLIC' AND object_authority <>\n",
    "                        '*EXCLUDE'\n",
    "            \n",
    "                \"\"\"\n",
    "            ),\n",
    "        },\n",
    "    }\n",
    "}"
   ]
  },
  {
   "cell_type": "code",
   "execution_count": null,
   "id": "c1edf85c",
   "metadata": {},
   "outputs": [],
   "source": []
  },
  {
   "cell_type": "markdown",
   "id": "5f4856fe",
   "metadata": {},
   "source": [
    "## 1. Test Setup - Create User Profiles for Testing\n",
    "\n",
    "First, we'll create some test user profiles that have *PUBLIC set to *USE instead of *EXCLUDE to test our queries."
   ]
  },
  {
   "cell_type": "code",
   "execution_count": 14,
   "id": "e92d4749",
   "metadata": {},
   "outputs": [
    {
     "name": "stdout",
     "output_type": "stream",
     "text": [
      "Executing: cl: crtusrprf topadmin\n",
      "Result: [{'00001': -1}]\n",
      "Executing: \n",
      "cl: crtusrprf topadmin2\n",
      "Result: [{'00001': -1}]\n",
      "Executing: \n",
      "cl:GRTOBJAUT OBJ(QSYS/TOPADMIN) OBJTYPE(*USRPRF) USER(*PUBLIC) AUT(*USE)\n",
      "Result: [{'00001': 1}]\n",
      "Executing: \n",
      "cl:GRTOBJAUT OBJ(QSYS/TOPADMIN2) OBJTYPE(*USRPRF) USER(*PUBLIC) AUT(*USE)\n",
      "Result: [{'00001': 1}]\n"
     ]
    }
   ],
   "source": [
    "# Create test user profiles that are exposed to attack\n",
    "test_setup_sql = \"\"\"\n",
    "cl: crtusrprf topadmin;\n",
    "cl: crtusrprf topadmin2;\n",
    "cl:GRTOBJAUT OBJ(QSYS/TOPADMIN) OBJTYPE(*USRPRF) USER(*PUBLIC) AUT(*USE);\n",
    "cl:GRTOBJAUT OBJ(QSYS/TOPADMIN2) OBJTYPE(*USRPRF) USER(*PUBLIC) AUT(*USE);\n",
    "\"\"\"\n",
    "\n",
    "# Let's run each command separately\n",
    "commands = test_setup_sql.strip().split(';')\n",
    "for cmd in commands:\n",
    "    if not cmd.strip():\n",
    "        continue\n",
    "    print(f\"Executing: {cmd}\")\n",
    "    try:\n",
    "        result = run_sql_statement(f\"select qsys2.qcmdexc('{cmd.strip()}') from sysibm.sysdummy1\")\n",
    "        print(f\"Result: {result}\")\n",
    "    except Exception as e:\n",
    "        print(f\"Error: {str(e)}\")"
   ]
  },
  {
   "cell_type": "markdown",
   "id": "aad3ac9d",
   "metadata": {},
   "source": [
    "## 2. Count Exposed Profiles\n",
    "\n",
    "Now let's run the query to count how many user profiles have *PUBLIC authority not set to *EXCLUDE."
   ]
  },
  {
   "cell_type": "code",
   "execution_count": 15,
   "id": "3eb90c1b",
   "metadata": {},
   "outputs": [
    {
     "name": "stdout",
     "output_type": "stream",
     "text": [
      "Running SQL:\n",
      "\n",
      "SELECT COUNT(*)\n",
      "FROM qsys2.object_privileges\n",
      "WHERE system_object_schema = 'QSYS' AND object_type = '*USRPRF' AND object_name NOT IN ('QDBSHR',\n",
      "        'QDBSHRDO', 'QDOC', 'QTMPLPD') AND user_name = '*PUBLIC' AND object_authority <>\n",
      "        '*EXCLUDE'\n",
      "\n",
      "\n",
      "Number of exposed profiles: [{'00001': 2}]\n"
     ]
    }
   ],
   "source": [
    "# Count exposed profiles\n",
    "count_sql = sql[\"security_metrics\"][\"count_exposed_profiles\"][\"sql\"]\n",
    "print(f\"Running SQL:\\n{count_sql}\\n\")\n",
    "\n",
    "result = run_sql_statement(count_sql)\n",
    "print(f\"Number of exposed profiles: {result}\")"
   ]
  },
  {
   "cell_type": "markdown",
   "id": "3d8dd6fb",
   "metadata": {},
   "source": [
    "## 3. List Exposed Profiles\n",
    "\n",
    "Now let's run the query to list all user profiles that have *PUBLIC authority not set to *EXCLUDE."
   ]
  },
  {
   "cell_type": "code",
   "execution_count": 16,
   "id": "e1d475c0",
   "metadata": {},
   "outputs": [
    {
     "name": "stdout",
     "output_type": "stream",
     "text": [
      "Running SQL:\n",
      "\n",
      "SELECT object_name AS user_name, object_authority\n",
      "FROM qsys2.object_privileges\n",
      "WHERE system_object_schema = 'QSYS' AND object_type = '*USRPRF' AND object_name NOT IN ('QDBSHR',\n",
      "        'QDBSHRDO', 'QDOC', 'QTMPLPD') AND user_name = '*PUBLIC' AND object_authority <>\n",
      "        '*EXCLUDE'\n",
      "\n",
      "\n",
      "\n",
      "Exposed profiles:\n",
      "User: TOPADMIN, Authority: *USE\n",
      "User: TOPADMIN2, Authority: *USE\n"
     ]
    }
   ],
   "source": [
    "# List exposed profiles\n",
    "list_sql = sql[\"security_metrics\"][\"list_exposed_profiles\"][\"sql\"]\n",
    "print(f\"Running SQL:\\n{list_sql}\\n\")\n",
    "\n",
    "result = run_sql_statement(list_sql)\n",
    "print(\"Exposed profiles:\")\n",
    "for profile in result:\n",
    "    print(f\"User: {profile.get('USER_NAME')}, Authority: {profile.get('OBJECT_AUTHORITY')}\")"
   ]
  },
  {
   "cell_type": "markdown",
   "id": "c59b7e43",
   "metadata": {},
   "source": [
    "## 4. Generate Corrective Queries\n",
    "\n",
    "Now let's run the query to generate corrective measures for user profiles that have *PUBLIC authority not set to *EXCLUDE."
   ]
  },
  {
   "cell_type": "code",
   "execution_count": 17,
   "id": "0755fe07",
   "metadata": {},
   "outputs": [
    {
     "name": "stdout",
     "output_type": "stream",
     "text": [
      "Running SQL:\n",
      "\n",
      "SELECT object_name AS user_name, object_authority,\n",
      "'SELECT qsys2.qcmdexc(''GRTOBJAUT OBJ(QSYS/' || object_name || ') OBJTYPE(*USRPRF) USER(*PUBLIC) AUT(*EXCLUDE)'') FROM sysibm.sysdummy1'\n",
      "    AS corrective_query\n",
      "FROM qsys2.object_privileges\n",
      "WHERE system_object_schema = 'QSYS' AND object_type = '*USRPRF' AND object_name NOT IN ('QDBSHR',\n",
      "        'QDBSHRDO', 'QDOC', 'QTMPLPD') AND user_name = '*PUBLIC' AND object_authority <>\n",
      "        '*EXCLUDE'\n",
      "\n",
      "\n",
      "\n",
      "Corrective measures:\n",
      "User: TOPADMIN, Authority: *USE\n",
      "Corrective query: SELECT qsys2.qcmdexc('GRTOBJAUT OBJ(QSYS/TOPADMIN) OBJTYPE(*USRPRF) USER(*PUBLIC) AUT(*EXCLUDE)') FROM sysibm.sysdummy1\n",
      "---\n",
      "User: TOPADMIN2, Authority: *USE\n",
      "Corrective query: SELECT qsys2.qcmdexc('GRTOBJAUT OBJ(QSYS/TOPADMIN2) OBJTYPE(*USRPRF) USER(*PUBLIC) AUT(*EXCLUDE)') FROM sysibm.sysdummy1\n",
      "---\n"
     ]
    }
   ],
   "source": [
    "# Generate corrective queries\n",
    "fix_sql = sql[\"security_metrics\"][\"fix_exposed_profiles\"][\"sql\"]\n",
    "print(f\"Running SQL:\\n{fix_sql}\\n\")\n",
    "\n",
    "result = run_sql_statement(fix_sql)\n",
    "print(\"Corrective measures:\")\n",
    "for profile in result:\n",
    "    print(f\"User: {profile.get('USER_NAME')}, Authority: {profile.get('OBJECT_AUTHORITY')}\")\n",
    "    print(f\"Corrective query: {profile.get('CORRECTIVE_QUERY')}\")\n",
    "    print(\"---\")"
   ]
  },
  {
   "cell_type": "markdown",
   "id": "c362b401",
   "metadata": {},
   "source": [
    "## 5. Execute Corrective Queries\n",
    "\n",
    "Now let's run the corrective queries to fix the exposed user profiles."
   ]
  },
  {
   "cell_type": "code",
   "execution_count": 8,
   "id": "269dbcf2",
   "metadata": {},
   "outputs": [
    {
     "name": "stdout",
     "output_type": "stream",
     "text": [
      "Fixing user profile: TOPADMIN\n",
      "Executing: SELECT qsys2.qcmdexc('GRTOBJAUT OBJ(QSYS/TOPADMIN) OBJTYPE(*USRPRF) USER(*PUBLIC) AUT(*EXCLUDE)') FROM sysibm.sysdummy1\n",
      "Result: [{'00001': 1}]\n",
      "---\n",
      "Fixing user profile: TOPADMIN2\n",
      "Executing: SELECT qsys2.qcmdexc('GRTOBJAUT OBJ(QSYS/TOPADMIN2) OBJTYPE(*USRPRF) USER(*PUBLIC) AUT(*EXCLUDE)') FROM sysibm.sysdummy1\n",
      "Result: [{'00001': 1}]\n",
      "---\n"
     ]
    }
   ],
   "source": [
    "# Execute corrective queries\n",
    "result = run_sql_statement(fix_sql)\n",
    "\n",
    "# Loop through the results and execute each corrective query\n",
    "for profile in result:\n",
    "    user_name = profile.get('USER_NAME')\n",
    "    corrective_query = profile.get('CORRECTIVE_QUERY')\n",
    "    \n",
    "    print(f\"Fixing user profile: {user_name}\")\n",
    "    print(f\"Executing: {corrective_query}\")\n",
    "    \n",
    "    try:\n",
    "        fix_result = run_sql_statement(corrective_query)\n",
    "        print(f\"Result: {fix_result}\")\n",
    "    except Exception as e:\n",
    "        print(f\"Error: {str(e)}\")\n",
    "    print(\"---\")"
   ]
  },
  {
   "cell_type": "code",
   "execution_count": 19,
   "id": "0d1c4d6e",
   "metadata": {},
   "outputs": [
    {
     "data": {
      "text/plain": [
       "\"Fixed profile TOPADMIN: [{'00001': 1}]\\nFixed profile TOPADMIN2: [{'00001': 1}]\""
      ]
     },
     "execution_count": 19,
     "metadata": {},
     "output_type": "execute_result"
    }
   ],
   "source": [
    "def run_corrective_query(profile_name: str = None) -> str:\n",
    "    \"\"\"Execute the corrective SQL query to fix an exposed user profile\n",
    "    \n",
    "    Args:\n",
    "        profile_name: The name of the user profile to fix. If not provided, \n",
    "                      all exposed profiles will be fixed.\n",
    "    \n",
    "    Returns:\n",
    "        Results of executing the corrective queries\n",
    "    \"\"\"\n",
    "    # First get the list of exposed profiles with their corrective queries\n",
    "    result = run_sql_statement(dedent(sql[\"security_metrics\"][\"fix_exposed_profiles\"][\"sql\"]))\n",
    "    \n",
    "    # Parse the result to extract user profiles and their corrective queries\n",
    "    import json\n",
    "    import re\n",
    "    \n",
    "    try:\n",
    "        data = result\n",
    "        results = []\n",
    "        \n",
    "        for row in data:\n",
    "            current_profile = row.get(\"USER_NAME\")\n",
    "            corrective_query = row.get(\"CORRECTIVE_QUERY\")\n",
    "            \n",
    "            # If a specific profile was requested, only fix that one\n",
    "            if profile_name and profile_name.upper() != current_profile.upper():\n",
    "                continue\n",
    "                \n",
    "            # Execute the corrective query\n",
    "            query_result = run_sql_statement(corrective_query)\n",
    "            results.append(f\"Fixed profile {current_profile}: {query_result}\")\n",
    "        \n",
    "        if not results:\n",
    "            if profile_name:\n",
    "                return f\"No exposed profile found with name '{profile_name}'\"\n",
    "            else:\n",
    "                return \"No exposed profiles found that need fixing\"\n",
    "        \n",
    "        return \"\\n\".join(results)\n",
    "    except Exception as e:\n",
    "        return f\"Error executing corrective queries: {str(e)}\\nRaw result: {result}\"\n",
    "    \n",
    "run_corrective_query()"
   ]
  },
  {
   "cell_type": "markdown",
   "id": "3b15d0d7",
   "metadata": {},
   "source": [
    "## 6. Verify Fixes\n",
    "\n",
    "Now let's run the count and list queries again to verify that the user profiles have been fixed."
   ]
  },
  {
   "cell_type": "code",
   "execution_count": 10,
   "id": "65e430e3",
   "metadata": {},
   "outputs": [
    {
     "name": "stdout",
     "output_type": "stream",
     "text": [
      "Number of exposed profiles after fixes: [{'00001': 0}]\n",
      "\n",
      "Remaining exposed profiles:\n"
     ]
    }
   ],
   "source": [
    "# Verify fixes by running the count query again\n",
    "count_sql = sql[\"security_metrics\"][\"count_exposed_profiles\"][\"sql\"]\n",
    "result = run_sql_statement(count_sql)\n",
    "print(f\"Number of exposed profiles after fixes: {result}\")\n",
    "\n",
    "# List any remaining exposed profiles\n",
    "if result:\n",
    "    list_sql = sql[\"security_metrics\"][\"list_exposed_profiles\"][\"sql\"]\n",
    "    result = run_sql_statement(list_sql)\n",
    "    print(\"\\nRemaining exposed profiles:\")\n",
    "    for profile in result:\n",
    "        print(f\"User: {profile.get('USER_NAME')}, Authority: {profile.get('OBJECT_AUTHORITY')}\")\n",
    "else:\n",
    "    print(\"\\nAll user profiles have been fixed!\")"
   ]
  },
  {
   "cell_type": "markdown",
   "id": "102748b3",
   "metadata": {},
   "source": [
    "## 7. Clean Up Test Environment\n",
    "\n",
    "Finally, let's clean up by deleting the test user profiles we created."
   ]
  },
  {
   "cell_type": "code",
   "execution_count": null,
   "id": "f12978da",
   "metadata": {},
   "outputs": [],
   "source": [
    "# Clean up test user profiles\n",
    "cleanup_sql = \"\"\"\n",
    "cl: dltusrprf topadmin;\n",
    "cl: dltusrprf topadmin2;\n",
    "\"\"\"\n",
    "\n",
    "# Let's run each command separately\n",
    "commands = cleanup_sql.strip().split(';')\n",
    "for cmd in commands:\n",
    "    if not cmd.strip():\n",
    "        continue\n",
    "    print(f\"Executing: {cmd}\")\n",
    "    try:\n",
    "        result = run_sql_statement(f\"select qsys2.qcmdexc('{cmd.strip()}') from sysibm.sysdummy1\")\n",
    "        print(f\"Result: {result}\")\n",
    "    except Exception as e:\n",
    "        print(f\"Error: {str(e)}\")"
   ]
  },
  {
   "cell_type": "markdown",
   "id": "7e6072bd",
   "metadata": {},
   "source": [
    "## Conclusion\n",
    "\n",
    "In this notebook, we have demonstrated how to:\n",
    "\n",
    "1. Create test user profiles with security vulnerabilities\n",
    "2. Count exposed user profiles\n",
    "3. List exposed user profiles\n",
    "4. Generate corrective SQL queries\n",
    "5. Execute the corrective queries to fix the vulnerabilities\n",
    "6. Verify that the fixes were applied correctly\n",
    "7. Clean up the test environment\n",
    "\n",
    "These same SQL queries and techniques are used in the security_assistant.py agent to provide an interactive way to identify and fix security vulnerabilities in IBM i user profiles."
   ]
  }
 ],
 "metadata": {
  "kernelspec": {
   "display_name": ".venv",
   "language": "python",
   "name": "python3"
  },
  "language_info": {
   "codemirror_mode": {
    "name": "ipython",
    "version": 3
   },
   "file_extension": ".py",
   "mimetype": "text/x-python",
   "name": "python",
   "nbconvert_exporter": "python",
   "pygments_lexer": "ipython3",
   "version": "3.13.2"
  }
 },
 "nbformat": 4,
 "nbformat_minor": 5
}
